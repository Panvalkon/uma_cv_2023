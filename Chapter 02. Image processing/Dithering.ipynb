{
 "cells": [
  {
   "cell_type": "markdown",
   "id": "c9ced7b9-6a65-4d38-a56f-f5ddc4d2bf74",
   "metadata": {},
   "source": [
    "## Doing imports"
   ]
  },
  {
   "cell_type": "code",
   "execution_count": 1,
   "id": "8139206e-0e07-405b-98f6-f3c98f613188",
   "metadata": {},
   "outputs": [],
   "source": [
    "import numpy as np\n",
    "import cv2\n",
    "import matplotlib.pyplot as plt\n",
    "import matplotlib\n",
    "from ipywidgets import interactive, fixed, widgets\n",
    "matplotlib.rcParams['figure.figsize'] = (20.0, 20.0)\n",
    "\n",
    "images_path = './images/'"
   ]
  },
  {
   "cell_type": "markdown",
   "id": "075a1481-0c19-43f5-93c1-b06f182c4243",
   "metadata": {},
   "source": [
    "Dithering consist in reducing color palette of the image allowing to use only x number of colors.\n",
    "\n",
    "Here I'm implementig dithering using Floyd–Steinberg algorithm.\n",
    "\n",
    "https://en.wikipedia.org/wiki/Floyd%E2%80%93Steinberg_dithering\n"
   ]
  },
  {
   "cell_type": "markdown",
   "id": "0f82aa33-492a-42ee-a8bc-1c02db7a824a",
   "metadata": {},
   "source": [
    "### Lets define quatization function\n",
    "The quantization function will take one channel and return it quantised or binarized"
   ]
  },
  {
   "cell_type": "code",
   "execution_count": 2,
   "id": "91eeb1af-ab63-417f-8d0e-8337cfc2795d",
   "metadata": {},
   "outputs": [],
   "source": [
    "def quatiseAndAjust(image, numColors):\n",
    "    ## To begin with i'll consider only binarization\n",
    "    quantizedImage = np.copy(image)\n",
    "    row,column = image.shape\n",
    "    ## Diffusion coeficiens\n",
    "    d1 = 7.0/16.0 ## Right pixel\n",
    "    d2 = 3.0/16.0 ## Left-bottom pixel\n",
    "    d3 = 5.0/16.0 ## Bottom pixel\n",
    "    d4 = 1.0/16.0 ## Right-bottom pixel\n",
    "    ##print(quantizedImage)\n",
    "    for x in range(0, row-1):\n",
    "        for y in range(0, column-1):\n",
    "            oldPix = quantizedImage[x,y]\n",
    "            newPix = np.ceil((np.floor((oldPix/255)*numColors)) / numColors*255)\n",
    "            quantizedImage[x,y] = newPix\n",
    "            error = oldPix - newPix\n",
    "            ##print(x, y, quantizedImage[x,y], error)\n",
    "            quantizedImage[x,y+1] += error*d1\n",
    "            quantizedImage[x+1,y-1] += error*d2\n",
    "            quantizedImage[x+1,y] += error*d3\n",
    "            quantizedImage[x+1,y+1] += error*d4\n",
    "            ##print(quantizedImage)\n",
    "            ##print()\n",
    "    \n",
    "\n",
    "    # out = np.clip(quantizedImage,0,255)[0:row-1,0:column-1]\n",
    "    \n",
    "    return quantizedImage"
   ]
  },
  {
   "cell_type": "markdown",
   "id": "f84d4c0f-2870-4484-bc23-c89ca74b606c",
   "metadata": {},
   "source": [
    "Now lets define function for dithering"
   ]
  },
  {
   "cell_type": "code",
   "execution_count": 5,
   "id": "671fbe20-906b-4351-92db-48c4180a0cd5",
   "metadata": {},
   "outputs": [],
   "source": [
    "def dither(imageIn, numColors):\n",
    "    image = cv2.imread(images_path + imageIn, -1) ## Loading BGR image\n",
    "    gray=cv2.cvtColor(image, cv2.COLOR_BGR2GRAY)\n",
    "    image = cv2.cvtColor(image, cv2.COLOR_BGR2RGB)    \n",
    "    red = quatiseAndAjust(image[:,:,0],numColors)\n",
    "    green = quatiseAndAjust(image[:,:,1],numColors)\n",
    "    blue = quatiseAndAjust(image[:,:,2],numColors)\n",
    "    ## merging back colors\n",
    "    outImage = cv2.merge((red, green, blue))\n",
    "    \n",
    "    ## Creating gray image\n",
    "    gray = quatiseAndAjust(gray[:,:],numColors)\n",
    "    \n",
    "    plt.subplot(3,1,1)\n",
    "    plt.imshow(image)\n",
    "    plt.title('Original image')    \n",
    "    \n",
    "    plt.subplot(3,1,2)\n",
    "    plt.imshow(outImage)\n",
    "    plt.title('Dithered image')\n",
    "    \n",
    "    plt.subplot(3,1,3)\n",
    "    plt.imshow(gray, cmap='gray')\n",
    "    plt.title('Dithered gray image')\n",
    "    \n",
    "    plt.show()\n",
    "    \n",
    "    \n",
    "    cv2.imwrite(images_path + 'out.jpg', cv2.cvtColor(outImage, cv2.COLOR_RGB2BGR))\n",
    "    \n",
    "    return outImage"
   ]
  },
  {
   "cell_type": "markdown",
   "id": "742768ca-d853-49d6-8746-f5ac05cd571d",
   "metadata": {},
   "source": [
    "try 'landscape_2.jpg' or 'car_plate_3.jpg'"
   ]
  },
  {
   "cell_type": "code",
   "execution_count": 6,
   "id": "4e6bc578-3548-49d4-9c37-c607bb212bcd",
   "metadata": {},
   "outputs": [
    {
     "data": {
      "application/vnd.jupyter.widget-view+json": {
       "model_id": "b3bd735ae1fe49c0ae41ce170206d5dc",
       "version_major": 2,
       "version_minor": 0
      },
      "text/plain": [
       "interactive(children=(IntSlider(value=8, description='numColors', max=16, min=2, step=2), Output()), _dom_clas…"
      ]
     },
     "execution_count": 6,
     "metadata": {},
     "output_type": "execute_result"
    }
   ],
   "source": [
    "interactive(dither, imageIn=fixed('car_plate_3.jpg'), numColors=(2, 16, 2))"
   ]
  },
  {
   "cell_type": "markdown",
   "id": "b91a3f47-6888-445c-a933-be246a4b5bd4",
   "metadata": {},
   "source": [
    "Inspired by this video https://www.youtube.com/watch?v=lseR6ZguBNY"
   ]
  },
  {
   "cell_type": "markdown",
   "id": "28f60ac3-11eb-4676-9cc3-f71e7e22c73f",
   "metadata": {},
   "source": [
    "Ciao"
   ]
  }
 ],
 "metadata": {
  "kernelspec": {
   "display_name": "Python 3 (ipykernel)",
   "language": "python",
   "name": "python3"
  },
  "language_info": {
   "codemirror_mode": {
    "name": "ipython",
    "version": 3
   },
   "file_extension": ".py",
   "mimetype": "text/x-python",
   "name": "python",
   "nbconvert_exporter": "python",
   "pygments_lexer": "ipython3",
   "version": "3.10.7"
  }
 },
 "nbformat": 4,
 "nbformat_minor": 5
}
