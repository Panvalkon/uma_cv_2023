{
 "cells": [
  {
   "cell_type": "markdown",
   "id": "2d56030e-c798-4178-a6d3-64b71ffa2fa8",
   "metadata": {
    "tags": []
   },
   "source": [
    "### Extra\n",
    "\n",
    "You have used YCrCb in this notebook because you were already fimiliar with it. The truth is that, in color quantization matters, [Lab color space](https://en.wikipedia.org/wiki/CIELAB_color_space) is commonly used.  \n",
    "\n",
    "Surf the internet for information about the Lab color space and then **answer the following questions**:\n",
    "\n",
    "1. How does Lab color space work?\n",
    "2. Why is it typically used for color quantization?"
   ]
  },
  {
   "cell_type": "markdown",
   "id": "a193695f-9b48-4a3a-bee7-550c225008e0",
   "metadata": {},
   "source": [
    "## 1. How does Lab color space work?\n",
    "\n",
    "Lab color space uses 3 channel in order to represent any color.\n",
    "In 8 bit color depth color range is following:\n",
    "- L stands for lightness . It ranges from 0 to 100. 0 value means that the pixel is completely black whereis 100 correpsponds to the white color. The images that only has L channel are gray-scale images.\n",
    "- a channel can have values from -127 to 127. Where -127 means pure Green color, and 127 pure Red color\n",
    "- b channel also can have values from -127 to 127. Where -127 means pure Blue color, and 127 pure Yellow color.\n",
    "\n",
    "### The most frequent representation of the Lab coros space:\n",
    "<center>\n",
    "<img src=\"./im/LabSpace.jpg\" width=\"500\" align=\"center\">\n",
    "    <figcaption>Fig 1. Lab color space visual representation.</figcaption>$\\\\[10pt]$ \n",
    "</center>\n"
   ]
  },
  {
   "cell_type": "markdown",
   "id": "51fb28c0-474c-4192-99d9-fdcbe1f03697",
   "metadata": {},
   "source": [
    "## Color space base\n",
    "Each component of Lab color space is calculated from CieXYZ color space. Consequently each color of orignal image must be converted to CieXYZ space and later to the CieLab. Where CieXYZ space can define gamut way wider than human eye can possible distinguish and it used as point of reference. Another important feature of Lab space is tha is perceptually uniform, where a given numerical change corresponds to a similar perceived change in colour.\n",
    "\n",
    "On  the following picture you can get familiar with technical details of how to transfomr from RGB to Lab color space\n"
   ]
  },
  {
   "cell_type": "markdown",
   "id": "2bd29270-aafd-460c-a909-7cefca42ff1b",
   "metadata": {},
   "source": [
    "<center>\n",
    "<img src=\"./im/RGB2Lab.jpg\" width=\"800\" align=\"center\">\n",
    "    <figcaption>Fig 2. Color transformation from RGB to Lab</figcaption>$\\\\[10pt]$ \n",
    "</center>\n",
    "<p style =\"text-align:right\">(c) https://docs.opencv.org/3.4/de/d25/imgproc_color_conversions.html</p>"
   ]
  },
  {
   "cell_type": "markdown",
   "id": "00d0f961-40fb-44d7-8864-db9858d45039",
   "metadata": {},
   "source": [
    "### 2. Why is it typically used for color quantization?\n",
    "\n",
    "Because the RGB colour space which is not perceptually uniform, means that two pairs of colours that have the same Euclidean distance might be perceived as not equally different (due to the different wavelengths of each colour and the sensitivity of human eyes on how to perceive each one of them). \n",
    "<p style =\"text-align:right\"> (c) https://towardsdatascience.com</p>"
   ]
  }
 ],
 "metadata": {
  "kernelspec": {
   "display_name": "Python 3 (ipykernel)",
   "language": "python",
   "name": "python3"
  },
  "language_info": {
   "codemirror_mode": {
    "name": "ipython",
    "version": 3
   },
   "file_extension": ".py",
   "mimetype": "text/x-python",
   "name": "python",
   "nbconvert_exporter": "python",
   "pygments_lexer": "ipython3",
   "version": "3.10.7"
  }
 },
 "nbformat": 4,
 "nbformat_minor": 5
}
