{
 "cells": [
  {
   "cell_type": "code",
   "execution_count": 9,
   "id": "bd1ef75d-0bf6-4ea3-8f32-c9490503cc99",
   "metadata": {},
   "outputs": [],
   "source": [
    "import numpy as np\n",
    "import cv2\n",
    "import matplotlib.pyplot as plt\n",
    "import matplotlib\n",
    "matplotlib.rcParams['figure.figsize'] = (8.0, 8.0)\n",
    "\n",
    "im = './testImages/'"
   ]
  },
  {
   "cell_type": "code",
   "execution_count": 80,
   "id": "bf760825-e478-48fb-9801-970b2dbe36ef",
   "metadata": {},
   "outputs": [],
   "source": [
    "def readImage(sampleSize, prefix, x, y):\n",
    "    \"\"\" \n",
    "        Load images under given prefix to the numpy array of dimentions (sampleSize, width*height)   \n",
    "    \n",
    "        Args:\n",
    "            sampleSize: number of images to load\n",
    "            prefix: literal prefix underf which dimilar images are stored\n",
    "            x: width of the image\n",
    "            y: height of the image\n",
    "                    \n",
    "        Returns: \n",
    "            images: numpy array of dimentions (sampleSize, x * y)\n",
    "            \n",
    "    \"\"\"   \n",
    "    \n",
    "    images = np.zeros((sampleSize,x * y,1))\n",
    "    for i in range (sampleSize):\n",
    "        #image = cv2.imread(im + prefix + str(i) + '.png',0).reshape((-1,1))\n",
    "        images[i,:,:] = cv2.imread(im + prefix + str(i) + '.png',0).reshape((-1,1))\n",
    "                                    \n",
    "    return images"
   ]
  },
  {
   "cell_type": "code",
   "execution_count": 112,
   "id": "f50dce0a-5108-4f7f-b181-368bd59f9010",
   "metadata": {},
   "outputs": [],
   "source": [
    "def makePrototype(images):\n",
    "    \"\"\"\n",
    "    Create a prototype of the image in which cell are stored the probability of the pixel\n",
    "    be black of white\n",
    "    \n",
    "    Args:\n",
    "        images : numpy array of dimentions (sampleSize, x, y)\n",
    "        x : width of the image\n",
    "        y : height of the image\n",
    "        \n",
    "    Returns:\n",
    "        A prototype of the image in which cell are stored the probability of the pixel\n",
    "    \n",
    "    \"\"\"\n",
    "    \n",
    "    _, h, _ = images.shape\n",
    "    proto = np.zeros((h,1))\n",
    "    num_frames, _, _ = images.shape\n",
    "    \n",
    "    for pixel in range (h):\n",
    "        for frame in range(num_frames):\n",
    "            proto[pixel, 0] += images[frame, pixel, 0]\n",
    "        proto[pixel,0] = proto[pixel,0]/num_frames\n",
    "    \n",
    "    proto[:,0] = np.where(proto[:,0] == 0, 0.000001, proto[:,0])\n",
    "    proto[:,0] = np.where(proto[:,0] == 255, 254.999999, proto[:,0])\n",
    "    return proto"
   ]
  },
  {
   "cell_type": "code",
   "execution_count": 125,
   "id": "602ff05d-493c-4f6b-8754-d2d91b9aeef0",
   "metadata": {},
   "outputs": [],
   "source": [
    "def getWeight(proto):\n",
    "    \n",
    "    n,_ = proto.shape\n",
    "    weights = np.zeros((n+1))\n",
    "    \n",
    "    proto_norm = proto/255\n",
    "    \n",
    "    w_nPlus1 = np.sum(np.log(1-proto_norm))\n",
    "    \n",
    "    weights[n] = w_nPlus1\n",
    "    for w in range (n):\n",
    "        weights[w] = np.log(1/(1-proto_norm[w,0]))\n",
    "    \n",
    "    return weights"
   ]
  },
  {
   "cell_type": "code",
   "execution_count": 126,
   "id": "0cf22859-d71e-4c15-b6a5-84b714e2e576",
   "metadata": {},
   "outputs": [],
   "source": [
    "def evaluateImage(image, weight):\n",
    "    stack = image.reshape((-1,1))\n",
    "    h, _ = stack.shape\n",
    "    x = np.zeros(h+1)\n",
    "    x[0:h] = stack[:,0]\n",
    "    x[h] = 1\n",
    "    \n",
    "    \n",
    "    return np.dot(x, weight)"
   ]
  },
  {
   "cell_type": "code",
   "execution_count": 127,
   "id": "011a85e0-e56c-4df2-9f37-22f191330038",
   "metadata": {},
   "outputs": [
    {
     "name": "stdout",
     "output_type": "stream",
     "text": [
      "[ 99311.35656671 118611.39086777]\n"
     ]
    },
    {
     "data": {
      "text/plain": [
       "<matplotlib.image.AxesImage at 0x220ccbb62f0>"
      ]
     },
     "execution_count": 127,
     "metadata": {},
     "output_type": "execute_result"
    },
    {
     "data": {
      "image/png": "[encoded data removed]",
      "text/plain": [
       "<Figure size 800x800 with 1 Axes>"
      ]
     },
     "metadata": {},
     "output_type": "display_data"
    }
   ],
   "source": [
    "image = cv2.imread(im + '00.png',0)\n",
    "x,y = 8,8 # Image Size\n",
    "zeroes = readImage(10, '0', x, y)\n",
    "frame, _, _ = zeroes.shape\n",
    "twos = readImage(10, '2', x, y)\n",
    "p_zeroes = makePrototype(zeroes)\n",
    "p_twos = makePrototype(twos)\n",
    "\n",
    "w_zeroes = getWeight(p_zeroes)\n",
    "w_twos = getWeight(p_twos)\n",
    "\n",
    "zero = cv2.imread(im + '23.png',0)\n",
    "#two = cv2.imread(im + '23.png',0)\n",
    "res = np.zeros(2)\n",
    "\n",
    "res[0] = evaluateImage(zero, w_zeroes)\n",
    "res[1] = evaluateImage(zero, w_twos)\n",
    "\n",
    "print(res)\n",
    "\n",
    "\n",
    "plt.imshow(zero, cmap = 'gray')\n"
   ]
  },
  {
   "cell_type": "code",
   "execution_count": 72,
   "id": "52a22586-2938-4d51-bcad-76b015c57805",
   "metadata": {},
   "outputs": [
    {
     "name": "stdout",
     "output_type": "stream",
     "text": [
      "(64, 1)\n"
     ]
    }
   ],
   "source": [
    "image = cv2.imread(im + '00.png',0)\n",
    "img = image.reshape((-1,1))\n",
    "print(img.shape)"
   ]
  },
  {
   "cell_type": "code",
   "execution_count": null,
   "id": "2a2e5fc0-0da7-40fb-ae46-83dec62735b9",
   "metadata": {},
   "outputs": [],
   "source": []
  }
 ],
 "metadata": {
  "kernelspec": {
   "display_name": "Python 3 (ipykernel)",
   "language": "python",
   "name": "python3"
  },
  "language_info": {
   "codemirror_mode": {
    "name": "ipython",
    "version": 3
   },
   "file_extension": ".py",
   "mimetype": "text/x-python",
   "name": "python",
   "nbconvert_exporter": "python",
   "pygments_lexer": "ipython3",
   "version": "3.10.7"
  }
 },
 "nbformat": 4,
 "nbformat_minor": 5
}
